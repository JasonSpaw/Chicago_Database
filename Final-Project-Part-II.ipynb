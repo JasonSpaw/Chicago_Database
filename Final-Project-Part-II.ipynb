{
 "cells": [
  {
   "cell_type": "markdown",
   "metadata": {},
   "source": [
    "# Final Project Part - II\n",
    "\n",
    "In this part, we will be implementing the tables and loading data into the tables that we have designed in Part - I. "
   ]
  },
  {
   "cell_type": "markdown",
   "metadata": {},
   "source": [
    "## 3.1 Using DDL, create each of the relations in the postgres server. \n",
    "\n",
    "* Use `dsa_student` database\n",
    "* You are free to use any of the following tools:\n",
    "  * psql\n",
    "      * If you use psql, copy and paste your query in the following cell\n",
    "  * sql magic\n",
    "  * psycopg2\n",
    "  * SQLAlchemy\n",
    "* Add additional cells if required"
   ]
  },
  {
   "cell_type": "code",
   "execution_count": 1,
   "metadata": {},
   "outputs": [],
   "source": [
    "import getpass\n",
    "import pandas as pd\n",
    "import psycopg2\n",
    "import sqlalchemy\n",
    "from sqlalchemy.engine.url import URL\n",
    "from sqlalchemy import create_engine"
   ]
  },
  {
   "cell_type": "code",
   "execution_count": 2,
   "metadata": {},
   "outputs": [
    {
     "name": "stdout",
     "output_type": "stream",
     "text": [
      "········\n"
     ]
    }
   ],
   "source": [
    "mypasswd = getpass.getpass()\n",
    "username = 'jpsvf2'\n",
    "host = 'pgsql.dsa.lan'\n",
    "database = 'dsa_student'\n",
    "\n",
    "postgres_db = {'drivername': 'postgres',\n",
    "               'username': username,\n",
    "               'password': mypasswd,\n",
    "               'host': host,\n",
    "               'database' :database}\n",
    "engine = create_engine(URL(**postgres_db), echo=False)\n",
    "del mypasswd"
   ]
  },
  {
   "cell_type": "code",
   "execution_count": 3,
   "metadata": {},
   "outputs": [
    {
     "name": "stdout",
     "output_type": "stream",
     "text": [
      "<sqlalchemy.engine.result.ResultProxy object at 0x7f139536be48>\n"
     ]
    }
   ],
   "source": [
    "query = \"\"\"\n",
    "DROP TABLE IF EXISTS jpsvf2.iucr CASCADE;\n",
    "CREATE TABLE jpsvf2.iucr (\n",
    "    IUCR VARCHAR(50),\n",
    "    Primary_Type VARCHAR(50),\n",
    "    Description VARCHAR(100),\n",
    "    CONSTRAINT pk_iucr\n",
    "        PRIMARY KEY (IUCR)\n",
    ");\n",
    "\n",
    "DROP TABLE IF EXISTS jpsvf2.location_info CASCADE;\n",
    "CREATE TABLE jpsvf2.location_info (\n",
    "    Location_ID INT,\n",
    "    Block VARCHAR(200),\n",
    "    Beat VARCHAR(200),\n",
    "    District VARCHAR(200),\n",
    "    Location_Description VARCHAR(300),\n",
    "    Community_Area VARCHAR(200),\n",
    "    Ward VARCHAR(100),\n",
    "    X_Coordinate REAL,\n",
    "    Y_Coordinate REAL,\n",
    "    Latitude REAL,\n",
    "    Longitude REAL,\n",
    "    CONSTRAINT pk_location_info\n",
    "        PRIMARY KEY (Location_ID)\n",
    ");\n",
    "\n",
    "DROP TABLE IF EXISTS jpsvf2.case_info CASCADE;\n",
    "CREATE TABLE jpsvf2.case_info (\n",
    "    Case_Number VARCHAR(50),\n",
    "    Arrest BOOL,\n",
    "    FBI_Code VARCHAR(50),\n",
    "    Domestic BOOL,\n",
    "    IUCR VARCHAR(50),\n",
    "    Date TIMESTAMP,\n",
    "    Location_ID INT,\n",
    "    CONSTRAINT pk_case_info\n",
    "        PRIMARY KEY (Case_Number),\n",
    "    CONSTRAINT fk1_case_info\n",
    "        FOREIGN KEY (IUCR)\n",
    "            REFERENCES jpsvf2.iucr(IUCR),\n",
    "    CONSTRAINT fk2_case_info\n",
    "        FOREIGN KEY (Location_ID)\n",
    "            REFERENCES jpsvf2.location_info(Location_ID)\n",
    ");\n",
    "\n",
    "DROP TABLE IF EXISTS jpsvf2.record CASCADE;\n",
    "CREATE TABLE jpsvf2.record (\n",
    "    ID INT,\n",
    "    Case_Number VARCHAR(50),\n",
    "    Updated_On TIMESTAMP,\n",
    "    CONSTRAINT pk_record\n",
    "        PRIMARY KEY (ID),\n",
    "    CONSTRAINT fk_record\n",
    "        FOREIGN KEY (Case_Number)\n",
    "            REFERENCES jpsvf2.case_info(Case_Number)\n",
    ");\n",
    "\"\"\"\n",
    "\n",
    "with engine.connect() as connection:\n",
    "    res = connection.execute(query)\n",
    "    print(res)\n"
   ]
  },
  {
   "cell_type": "markdown",
   "metadata": {},
   "source": [
    "## 3.2 Show the table definitions using psql or querying information_schema.colums catalog\n",
    "* Add additional cells if required"
   ]
  },
  {
   "cell_type": "raw",
   "metadata": {},
   "source": [
    "\n",
    "dsa_student=> \\d iucr\n",
    "                          Table \"jpsvf2.iucr\"\n",
    "    Column    |          Type          | Collation | Nullable | Default\n",
    "--------------+------------------------+-----------+----------+---------\n",
    " iucr         | character varying(50)  |           | not null |\n",
    " primary_type | character varying(50)  |           |          |\n",
    " description  | character varying(100) |           |          |\n",
    "Indexes:\n",
    "    \"pk_iucr\" PRIMARY KEY, btree (iucr)\n",
    "Referenced by:\n",
    "    TABLE \"case_info\" CONSTRAINT \"fk1_case_info\" FOREIGN KEY (iucr) REFERENCES iucr(iucr)\n",
    "\n",
    "dsa_student=> \\d location_info\n",
    "                          Table \"jpsvf2.location_info\"\n",
    "        Column        |          Type          | Collation | Nullable | Default\n",
    "----------------------+------------------------+-----------+----------+---------\n",
    " location_id          | integer                |           | not null |\n",
    " block                | character varying(200) |           |          |\n",
    " beat                 | character varying(200) |           |          |\n",
    " district             | character varying(200) |           |          |\n",
    " location_description | character varying(300) |           |          |\n",
    " community_area       | character varying(200) |           |          |\n",
    " ward                 | character varying(100) |           |          |\n",
    " x_coordinate         | real                   |           |          |\n",
    " y_coordinate         | real                   |           |          |\n",
    " latitude             | real                   |           |          |\n",
    " longitude            | real                   |           |          |\n",
    "Indexes:\n",
    "    \"pk_location_info\" PRIMARY KEY, btree (location_id)\n",
    "Referenced by:\n",
    "    TABLE \"case_info\" CONSTRAINT \"fk2_case_info\" FOREIGN KEY (location_id) REFERENCES location_info(location_id)\n",
    "\n",
    "dsa_student=> \\d case_info\n",
    "                          Table \"jpsvf2.case_info\"\n",
    "   Column    |            Type             | Collation | Nullable | Default\n",
    "-------------+-----------------------------+-----------+----------+---------\n",
    " case_number | character varying(50)       |           | not null |\n",
    " arrest      | boolean                     |           |          |\n",
    " fbi_code    | character varying(50)       |           |          |\n",
    " domestic    | boolean                     |           |          |\n",
    " iucr        | character varying(50)       |           |          |\n",
    " date        | timestamp without time zone |           |          |\n",
    " location_id | integer                     |           |          |\n",
    "Indexes:\n",
    "    \"pk_case_info\" PRIMARY KEY, btree (case_number)\n",
    "Foreign-key constraints:\n",
    "    \"fk1_case_info\" FOREIGN KEY (iucr) REFERENCES iucr(iucr)\n",
    "    \"fk2_case_info\" FOREIGN KEY (location_id) REFERENCES location_info(location_id)\n",
    "Referenced by:\n",
    "    TABLE \"record\" CONSTRAINT \"fk_record\" FOREIGN KEY (case_number) REFERENCES case_info(case_number)\n",
    "\n",
    "dsa_student=> \\d record\n",
    "                           Table \"jpsvf2.record\"\n",
    "   Column    |            Type             | Collation | Nullable | Default\n",
    "-------------+-----------------------------+-----------+----------+---------\n",
    " id          | integer                     |           | not null |\n",
    " case_number | character varying(50)       |           |          |\n",
    " updated_on  | timestamp without time zone |           |          |\n",
    "Indexes:\n",
    "    \"pk_record\" PRIMARY KEY, btree (id)\n",
    "Foreign-key constraints:\n",
    "    \"fk_record\" FOREIGN KEY (case_number) REFERENCES case_info(case_number)"
   ]
  },
  {
   "cell_type": "markdown",
   "metadata": {},
   "source": [
    "## 4.1 Load the data from the given csv file to the relations\n",
    "\n",
    "\n",
    "\n",
    "* Assuming there will be more than one relations, you need to extract a subsets of data from the csv data. As Python may not be your first choice, you can use any languages to create subsets of data. Then store these data into the M8 exercises folder. \n",
    "* After curating the data use any of the following tools to load the data into the tables\n",
    "  * psql\n",
    "      * If you use psql, copy and paste your command/query in the following cell\n",
    "  * sql magic\n",
    "  * psycopg2\n",
    "  * SQLAlchemy\n",
    "* Add additional cells if required"
   ]
  },
  {
   "cell_type": "code",
   "execution_count": 4,
   "metadata": {},
   "outputs": [
    {
     "name": "stdout",
     "output_type": "stream",
     "text": [
      "('1562', 'SEX OFFENSE', 'AGG CRIMINAL SEXUAL ABUSE')\n",
      "('1544', 'SEX OFFENSE', 'SEXUAL EXPLOITATION OF A CHILD')\n"
     ]
    }
   ],
   "source": [
    "iucr_file = 'iucr.csv'\n",
    "\n",
    "iucr = pd.read_csv(iucr_file)\n",
    "\n",
    "iucr.to_sql('iucr', \n",
    "          engine,             \n",
    "          schema= username,   \n",
    "          if_exists='append',\n",
    "          index=False,        \n",
    "          chunksize=300)  \n",
    "\n",
    "with engine.connect() as connection:\n",
    "    res = connection.execute(\"select * from jpsvf2.iucr limit 2\")\n",
    "    for row in res:\n",
    "        print(row)"
   ]
  },
  {
   "cell_type": "code",
   "execution_count": 5,
   "metadata": {},
   "outputs": [
    {
     "name": "stdout",
     "output_type": "stream",
     "text": [
      "(92623, '026XX N MC VICKER AVE', '2512', '25', 'RESIDENCE', '19.0', '29.0', None, None, None, None)\n",
      "(120498, '036XX S RHODES AVE', '212', '2', 'APARTMENT', '35.0', '4.0', None, None, None, None)\n"
     ]
    }
   ],
   "source": [
    "location_info_file = 'location_info.csv'\n",
    "\n",
    "location_info = pd.read_csv(location_info_file)\n",
    "\n",
    "location_info.to_sql('location_info', \n",
    "          engine,             \n",
    "          schema= username,   \n",
    "          if_exists='append',\n",
    "          index=False,        \n",
    "          chunksize=300)  \n",
    "\n",
    "with engine.connect() as connection:\n",
    "    res = connection.execute(\"select * from jpsvf2.location_info limit 2\")\n",
    "    for row in res:\n",
    "        print(row)"
   ]
  },
  {
   "cell_type": "code",
   "execution_count": 6,
   "metadata": {},
   "outputs": [
    {
     "name": "stdout",
     "output_type": "stream",
     "text": [
      "('HZ170962', True, '17', False, '1562', datetime.datetime(2012, 1, 1, 0, 0), 92623)\n",
      "('HZ170983', True, '17', False, '1544', datetime.datetime(2012, 1, 1, 0, 0), 92623)\n"
     ]
    }
   ],
   "source": [
    "case_info_file = 'case_info.csv'\n",
    "\n",
    "case_info = pd.read_csv(case_info_file)\n",
    "\n",
    "case_info.to_sql('case_info', \n",
    "          engine,             \n",
    "          schema= username,   \n",
    "          if_exists='append',\n",
    "          index=False,        \n",
    "          chunksize=300)  \n",
    "\n",
    "with engine.connect() as connection:\n",
    "    res = connection.execute(\"select * from jpsvf2.case_info limit 2\")\n",
    "    for row in res:\n",
    "        print(row)"
   ]
  },
  {
   "cell_type": "code",
   "execution_count": 7,
   "metadata": {},
   "outputs": [
    {
     "name": "stdout",
     "output_type": "stream",
     "text": [
      "(10433096, 'HZ170962', datetime.datetime(2016, 5, 11, 15, 48))\n",
      "(10433124, 'HZ170983', datetime.datetime(2016, 5, 11, 15, 48))\n"
     ]
    }
   ],
   "source": [
    "record_file = 'record.csv'\n",
    "\n",
    "record = pd.read_csv(record_file)\n",
    "\n",
    "record.to_sql('record', \n",
    "          engine,             \n",
    "          schema= username,   \n",
    "          if_exists='append',\n",
    "          index=False,        \n",
    "          chunksize=300)  \n",
    "\n",
    "with engine.connect() as connection:\n",
    "    res = connection.execute(\"select * from jpsvf2.record limit 2\")\n",
    "    for row in res:\n",
    "        print(row)"
   ]
  },
  {
   "cell_type": "markdown",
   "metadata": {},
   "source": [
    "## 4.2 For each of the tables, show the number of rows in the table using a sql query\n",
    "\n",
    "* Add additional cells if required"
   ]
  },
  {
   "cell_type": "code",
   "execution_count": 8,
   "metadata": {},
   "outputs": [
    {
     "data": {
      "text/html": [
       "<div>\n",
       "<style scoped>\n",
       "    .dataframe tbody tr th:only-of-type {\n",
       "        vertical-align: middle;\n",
       "    }\n",
       "\n",
       "    .dataframe tbody tr th {\n",
       "        vertical-align: top;\n",
       "    }\n",
       "\n",
       "    .dataframe thead th {\n",
       "        text-align: right;\n",
       "    }\n",
       "</style>\n",
       "<table border=\"1\" class=\"dataframe\">\n",
       "  <thead>\n",
       "    <tr style=\"text-align: right;\">\n",
       "      <th></th>\n",
       "      <th>count</th>\n",
       "    </tr>\n",
       "  </thead>\n",
       "  <tbody>\n",
       "    <tr>\n",
       "      <th>0</th>\n",
       "      <td>318</td>\n",
       "    </tr>\n",
       "  </tbody>\n",
       "</table>\n",
       "</div>"
      ],
      "text/plain": [
       "   count\n",
       "0    318"
      ]
     },
     "execution_count": 8,
     "metadata": {},
     "output_type": "execute_result"
    }
   ],
   "source": [
    "with engine.connect() as connection:\n",
    "    df2 = pd.read_sql_query(\"SELECT COUNT(*) FROM iucr\", connection)\n",
    "\n",
    "df2.head()"
   ]
  },
  {
   "cell_type": "code",
   "execution_count": 9,
   "metadata": {},
   "outputs": [
    {
     "data": {
      "text/html": [
       "<div>\n",
       "<style scoped>\n",
       "    .dataframe tbody tr th:only-of-type {\n",
       "        vertical-align: middle;\n",
       "    }\n",
       "\n",
       "    .dataframe tbody tr th {\n",
       "        vertical-align: top;\n",
       "    }\n",
       "\n",
       "    .dataframe thead th {\n",
       "        text-align: right;\n",
       "    }\n",
       "</style>\n",
       "<table border=\"1\" class=\"dataframe\">\n",
       "  <thead>\n",
       "    <tr style=\"text-align: right;\">\n",
       "      <th></th>\n",
       "      <th>count</th>\n",
       "    </tr>\n",
       "  </thead>\n",
       "  <tbody>\n",
       "    <tr>\n",
       "      <th>0</th>\n",
       "      <td>243427</td>\n",
       "    </tr>\n",
       "  </tbody>\n",
       "</table>\n",
       "</div>"
      ],
      "text/plain": [
       "    count\n",
       "0  243427"
      ]
     },
     "execution_count": 9,
     "metadata": {},
     "output_type": "execute_result"
    }
   ],
   "source": [
    "with engine.connect() as connection:\n",
    "    df3 = pd.read_sql_query(\"SELECT COUNT(*) FROM location_info\", connection)\n",
    "\n",
    "df3.head()"
   ]
  },
  {
   "cell_type": "code",
   "execution_count": 10,
   "metadata": {},
   "outputs": [
    {
     "data": {
      "text/html": [
       "<div>\n",
       "<style scoped>\n",
       "    .dataframe tbody tr th:only-of-type {\n",
       "        vertical-align: middle;\n",
       "    }\n",
       "\n",
       "    .dataframe tbody tr th {\n",
       "        vertical-align: top;\n",
       "    }\n",
       "\n",
       "    .dataframe thead th {\n",
       "        text-align: right;\n",
       "    }\n",
       "</style>\n",
       "<table border=\"1\" class=\"dataframe\">\n",
       "  <thead>\n",
       "    <tr style=\"text-align: right;\">\n",
       "      <th></th>\n",
       "      <th>count</th>\n",
       "    </tr>\n",
       "  </thead>\n",
       "  <tbody>\n",
       "    <tr>\n",
       "      <th>0</th>\n",
       "      <td>334715</td>\n",
       "    </tr>\n",
       "  </tbody>\n",
       "</table>\n",
       "</div>"
      ],
      "text/plain": [
       "    count\n",
       "0  334715"
      ]
     },
     "execution_count": 10,
     "metadata": {},
     "output_type": "execute_result"
    }
   ],
   "source": [
    "with engine.connect() as connection:\n",
    "    df4 = pd.read_sql_query(\"SELECT COUNT(*) FROM case_info\", connection)\n",
    "\n",
    "df4.head()"
   ]
  },
  {
   "cell_type": "code",
   "execution_count": 11,
   "metadata": {},
   "outputs": [
    {
     "data": {
      "text/html": [
       "<div>\n",
       "<style scoped>\n",
       "    .dataframe tbody tr th:only-of-type {\n",
       "        vertical-align: middle;\n",
       "    }\n",
       "\n",
       "    .dataframe tbody tr th {\n",
       "        vertical-align: top;\n",
       "    }\n",
       "\n",
       "    .dataframe thead th {\n",
       "        text-align: right;\n",
       "    }\n",
       "</style>\n",
       "<table border=\"1\" class=\"dataframe\">\n",
       "  <thead>\n",
       "    <tr style=\"text-align: right;\">\n",
       "      <th></th>\n",
       "      <th>count</th>\n",
       "    </tr>\n",
       "  </thead>\n",
       "  <tbody>\n",
       "    <tr>\n",
       "      <th>0</th>\n",
       "      <td>334715</td>\n",
       "    </tr>\n",
       "  </tbody>\n",
       "</table>\n",
       "</div>"
      ],
      "text/plain": [
       "    count\n",
       "0  334715"
      ]
     },
     "execution_count": 11,
     "metadata": {},
     "output_type": "execute_result"
    }
   ],
   "source": [
    "with engine.connect() as connection:\n",
    "    df5 = pd.read_sql_query(\"SELECT COUNT(*) FROM record\", connection)\n",
    "\n",
    "df5.head()"
   ]
  },
  {
   "cell_type": "code",
   "execution_count": null,
   "metadata": {},
   "outputs": [],
   "source": []
  }
 ],
 "metadata": {
  "kernelspec": {
   "display_name": "Python 3",
   "language": "python",
   "name": "python3"
  },
  "language_info": {
   "codemirror_mode": {
    "name": "ipython",
    "version": 3
   },
   "file_extension": ".py",
   "mimetype": "text/x-python",
   "name": "python",
   "nbconvert_exporter": "python",
   "pygments_lexer": "ipython3",
   "version": "3.7.3"
  },
  "latex_envs": {
   "LaTeX_envs_menu_present": true,
   "bibliofile": "biblio.bib",
   "cite_by": "apalike",
   "current_citInitial": 1,
   "eqLabelWithNumbers": true,
   "eqNumInitial": 1,
   "labels_anchors": false,
   "latex_user_defs": false,
   "report_style_numbering": false,
   "user_envs_cfg": false
  },
  "toc": {
   "colors": {
    "hover_highlight": "#DAA520",
    "running_highlight": "#FF0000",
    "selected_highlight": "#FFD700"
   },
   "moveMenuLeft": true,
   "nav_menu": {
    "height": "139.261px",
    "width": "251.989px"
   },
   "navigate_menu": true,
   "number_sections": true,
   "sideBar": true,
   "threshold": 4,
   "toc_cell": true,
   "toc_section_display": "block",
   "toc_window_display": false
  }
 },
 "nbformat": 4,
 "nbformat_minor": 4
}
