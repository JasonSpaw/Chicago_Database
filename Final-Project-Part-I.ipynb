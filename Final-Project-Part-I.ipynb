{
 "cells": [
  {
   "cell_type": "markdown",
   "metadata": {
    "toc": "true"
   },
   "source": [
    "# Table of Contents\n",
    " <p>"
   ]
  },
  {
   "cell_type": "markdown",
   "metadata": {},
   "source": [
    "# Project Description \n",
    "\n",
    "In this project, we will explore Chicago Crime Dataset and implement a relational database for storing the data. The key tasks for this project are as follows: \n",
    "\n",
    "1. Indentify the features (attributes) in Chicago Crime dataset and design an entity-relationship model\n",
    "2. Refine the model and convert each relation to 3NF (if required)\n",
    "3. Using DDL implement the relations in a postgres server\n",
    "4. Load the given data to the relations\n",
    "5. Execute some interesting queries on the relations\n",
    "\n",
    "\n",
    "## Dataset\n",
    "\n",
    "* Dataset URL: **/dsa/data/DSA-7030/Chicago-Crime-Sample-2012.csv**\n",
    "* Dataset Description: [pdf](./ChicagoData-Description.pdf)"
   ]
  },
  {
   "cell_type": "markdown",
   "metadata": {},
   "source": [
    "## Dataset exploration"
   ]
  },
  {
   "cell_type": "code",
   "execution_count": 1,
   "metadata": {},
   "outputs": [],
   "source": [
    "import pandas as pd\n",
    "datapath = \"/dsa/data/DSA-7030/Chicago-Crime-Sample-2012.csv\"\n",
    "df = pd.read_csv(datapath, index_col=0)"
   ]
  },
  {
   "cell_type": "code",
   "execution_count": 2,
   "metadata": {
    "scrolled": true
   },
   "outputs": [
    {
     "name": "stdout",
     "output_type": "stream",
     "text": [
      "<class 'pandas.core.frame.DataFrame'>\n",
      "Int64Index: 334715 entries, 47398 to 2743778\n",
      "Data columns (total 22 columns):\n",
      "ID                      334715 non-null int64\n",
      "Case Number             334715 non-null object\n",
      "Date                    334715 non-null object\n",
      "Block                   334715 non-null object\n",
      "IUCR                    334715 non-null object\n",
      "Primary Type            334715 non-null object\n",
      "Description             334715 non-null object\n",
      "Location Description    334384 non-null object\n",
      "Arrest                  334715 non-null bool\n",
      "Domestic                334715 non-null bool\n",
      "Beat                    334715 non-null int64\n",
      "District                334715 non-null int64\n",
      "Ward                    334708 non-null float64\n",
      "Community Area          334689 non-null float64\n",
      "FBI Code                334715 non-null object\n",
      "X Coordinate            334132 non-null float64\n",
      "Y Coordinate            334132 non-null float64\n",
      "Year                    334715 non-null int64\n",
      "Updated On              334715 non-null object\n",
      "Latitude                334132 non-null float64\n",
      "Longitude               334132 non-null float64\n",
      "Location                334132 non-null object\n",
      "dtypes: bool(2), float64(6), int64(4), object(10)\n",
      "memory usage: 54.3+ MB\n"
     ]
    }
   ],
   "source": [
    "# check columns\n",
    "df.info()"
   ]
  },
  {
   "cell_type": "markdown",
   "metadata": {},
   "source": [
    "## 1.1 Design an Entity Relationship Model for the Chicago Crime Dataset\n",
    "\n",
    "* List all the entities with associated attributes\n",
    "* Indentify primary and foreign keys"
   ]
  },
  {
   "cell_type": "raw",
   "metadata": {},
   "source": [
    "(P) = Primary Key\n",
    "(F) = Foriegn Key\n",
    "\n",
    "Record\n",
    "    -ID (P)\n",
    "    -Case_Number (F)\n",
    "    -Updated_On\n",
    "    \n",
    "Case_Info\n",
    "    -Case_Number (P)\n",
    "    -Block (F)\n",
    "    -Arrest\n",
    "    -FBI Code\n",
    "    -Domestic\n",
    "    -IUCR (F)\n",
    "    -Primary Type\n",
    "    -Description\n",
    "    -Date\n",
    "    -Year\n",
    "    -Updated_On\n",
    "    \n",
    "Location_Info\n",
    "    -Block (P)\n",
    "    -Beat\n",
    "    -District\n",
    "    -ward\n",
    "    -Location_Description\n",
    "    -Community_Area\n",
    "    -X_Coordinate\n",
    "    -Y_Coordinate\n",
    "    -Latitude\n",
    "    -Longitude\n",
    "    -Location"
   ]
  },
  {
   "cell_type": "markdown",
   "metadata": {},
   "source": [
    "## 1.2 If required, refine your initial set of relations and convert each of the relations to 3NF\n",
    "\n",
    "While converting a relation to 3NF, please write down the process in the following cell. "
   ]
  },
  {
   "cell_type": "raw",
   "metadata": {},
   "source": [
    "Record is in 3NF but CasI_info and Location, above, are 2NF because they contain transitive dependencies, which are as follows:\n",
    "\n",
    "IUCR => Primary Type\n",
    "IUCR => Description\n",
    "\n",
    "While subsetting, no unique primary key could be established for location info so location_id was created and used as primary key instead of Block.  Also, redundent attibutes were removed such as location and year creating the following relations:\n",
    "\n",
    "-Case_Info(Case_Number, Arrest, FBI_Code, Domestic, IUCR, Primary_Type, Description, Date, Location_ID): primary key is {IUCR}\n",
    "1. Location_Info(Location_ID, Block, Beat, District, Ward, Location_Description, Community Area, Ward, X_Coordinate, Y_Coordinate, Latitude, Longitude): primary key is {location_id}\n",
    "\n",
    "Case_Info(Case_Number, Arrest, FBI_Code, Domestic, IUCR, Primary_Type, Description, Date, Location_ID) can be decomposed using {IUCR} to the following 3NF tables:\n",
    "\n",
    "2. Case_Info(Case_Number, Arrest, FBI_Code, Domestic, IUCR, Date, Location_ID): primary key is {Case_Number}\n",
    "3. IUCR(IUCR, Primary_Type, Description): primary key is {IUCR}\n",
    "\n",
    "The remaining final 3NF table is:\n",
    "\n",
    "4. Record(ID, Case_Number, Updated_On): primary key is {ID}\n",
    "\n",
    "----------------------------------------------------------------------------------\n",
    "\n",
    "(P) = Primary Key\n",
    "(F) = Foriegn Key\n",
    "\n",
    "Record\n",
    "    -ID (P)\n",
    "    -Case_Number (F)\n",
    "    -Updated_On\n",
    "\n",
    "Case_Info\n",
    "    -Case_Number (P)\n",
    "    -Arrest\n",
    "    -FBI_Code\n",
    "    -Domestic\n",
    "    -IUCR (F)\n",
    "    -Date\n",
    "    -Location_ID (F)\n",
    "\n",
    "IUCR\n",
    "    -IUCR (P)\n",
    "    -Primary_Type\n",
    "    -Description\n",
    "    -Updated_On\n",
    "\n",
    "Location_Info\n",
    "    -Location_ID (P)\n",
    "    -Block\n",
    "    -Beat\n",
    "    -District\n",
    "    -Location_Description\n",
    "    -Community_Area\n",
    "    -Ward\n",
    "    -X_Coordinate\n",
    "    -Y_Coordinate\n",
    "    -Latitude\n",
    "    -Longitude"
   ]
  },
  {
   "cell_type": "markdown",
   "metadata": {},
   "source": [
    "## 1.3 Final ERD\n",
    "\n",
    "* Draw an entitiy relationship diagram once you are done with 1.1 and 1.2 \n",
    "* Use crow's foot notation to specify the cardinality \n",
    "* Show the primary and foreign keys in the diagram"
   ]
  },
  {
   "cell_type": "markdown",
   "metadata": {},
   "source": [
    "Please upload your ERD to the Module 8 exercises folder. Link the file [here](myerd.png). Once you are done, change this cell type to Markdown and execute."
   ]
  },
  {
   "cell_type": "markdown",
   "metadata": {},
   "source": [
    "## <center> Part-I ends here</center>"
   ]
  },
  {
   "cell_type": "markdown",
   "metadata": {},
   "source": [
    "To access Part II, use this link: [Final Project Part II](./Final-Project-Part-II.ipynb)"
   ]
  }
 ],
 "metadata": {
  "kernelspec": {
   "display_name": "Python 3",
   "language": "python",
   "name": "python3"
  },
  "language_info": {
   "codemirror_mode": {
    "name": "ipython",
    "version": 3
   },
   "file_extension": ".py",
   "mimetype": "text/x-python",
   "name": "python",
   "nbconvert_exporter": "python",
   "pygments_lexer": "ipython3",
   "version": "3.7.3"
  },
  "latex_envs": {
   "LaTeX_envs_menu_present": true,
   "bibliofile": "biblio.bib",
   "cite_by": "apalike",
   "current_citInitial": 1,
   "eqLabelWithNumbers": true,
   "eqNumInitial": 1,
   "labels_anchors": false,
   "latex_user_defs": false,
   "report_style_numbering": false,
   "user_envs_cfg": false
  },
  "toc": {
   "colors": {
    "hover_highlight": "#DAA520",
    "running_highlight": "#FF0000",
    "selected_highlight": "#FFD700"
   },
   "moveMenuLeft": true,
   "nav_menu": {
    "height": "11.9886px",
    "width": "251.989px"
   },
   "navigate_menu": true,
   "number_sections": true,
   "sideBar": true,
   "threshold": 4,
   "toc_cell": true,
   "toc_section_display": "block",
   "toc_window_display": false
  }
 },
 "nbformat": 4,
 "nbformat_minor": 4
}
